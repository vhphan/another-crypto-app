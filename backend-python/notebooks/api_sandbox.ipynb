{
 "cells": [
  {
   "cell_type": "code",
   "outputs": [
    {
     "data": {
      "text/plain": "False"
     },
     "execution_count": 10,
     "metadata": {},
     "output_type": "execute_result"
    }
   ],
   "source": [
    "from dotenv import load_dotenv\n",
    "import requests\n",
    "import os\n",
    "import pandas as pd\n",
    "\n",
    "os.chdir('..')\n",
    "load_dotenv()"
   ],
   "metadata": {
    "collapsed": false,
    "ExecuteTime": {
     "end_time": "2024-01-21T08:05:17.499957Z",
     "start_time": "2024-01-21T08:05:16.428703900Z"
    }
   },
   "id": "91e655f8939a6e67",
   "execution_count": 10
  },
  {
   "cell_type": "code",
   "outputs": [],
   "source": [
    "COINMARKET_CAP_API_KEY = os.getenv('COINMARKET_CAP_API_KEY')"
   ],
   "metadata": {
    "collapsed": false,
    "ExecuteTime": {
     "end_time": "2024-01-21T07:27:45.806709600Z",
     "start_time": "2024-01-21T07:27:45.800672300Z"
    }
   },
   "id": "108619b5c3020601",
   "execution_count": 2
  },
  {
   "cell_type": "code",
   "outputs": [
    {
     "name": "stdout",
     "output_type": "stream",
     "text": [
      "[[1698364800000, 32953.0, 34472.0, 32953.0, 34174.0], [1698710400000, 33899.0, 34556.0, 33899.0, 34499.0], [1698969600000, 34672.0, 35457.0, 34672.0, 34924.0], [1699315200000, 34731.0, 35062.0, 34731.0, 35031.0], [1699660800000, 35437.0, 37344.0, 35437.0, 37344.0], [1700006400000, 37123.0, 37123.0, 35545.0, 35545.0], [1700352000000, 37904.0, 37904.0, 36202.0, 36582.0], [1700697600000, 37414.0, 37489.0, 35965.0, 37465.0], [1701043200000, 37293.0, 37810.0, 37293.0, 37492.0], [1701302400000, 37250.0, 37810.0, 37250.0, 37810.0], [1701561600000, 37712.0, 39482.0, 37712.0, 39482.0], [1701907200000, 39960.0, 44106.0, 39960.0, 43788.0], [1702252800000, 43270.0, 44202.0, 43270.0, 43758.0], [1702598400000, 41201.0, 43010.0, 41201.0, 43010.0], [1702944000000, 41992.0, 42684.0, 41411.0, 42684.0], [1703289600000, 42250.0, 44004.0, 42250.0, 44004.0], [1703635200000, 43752.0, 43752.0, 42516.0, 42516.0], [1703980800000, 43418.0, 43418.0, 42075.0, 42221.0], [1704240000000, 42208.0, 44995.0, 42208.0, 44995.0], [1704585600000, 42822.0, 44196.0, 42822.0, 43956.0], [1704931200000, 43884.0, 46936.0, 43884.0, 46632.0], [1705276800000, 46314.0, 46314.0, 41801.0, 41801.0], [1705622400000, 42587.0, 43148.0, 41261.0, 41261.0], [1705968000000, 41601.0, 41626.0, 41601.0, 41626.0]]\n"
     ]
    }
   ],
   "source": [
    "\n",
    "id = \"bitcoin\"\n",
    "url = f\"https://api.coingecko.com/api/v3/coins/{id}/ohlc?vs_currency=usd&days=90\"\n",
    "\n",
    "headers = {\n",
    "  \"Content-Type\": \"application/json\",\n",
    "  \"X-CMC_PRO_API_KEY\": COINMARKET_CAP_API_KEY  \n",
    "}\n",
    "\n",
    "response = requests.get(url, headers=headers)\n",
    "\n",
    "print(response.json())"
   ],
   "metadata": {
    "collapsed": false,
    "ExecuteTime": {
     "end_time": "2024-01-21T07:27:54.654115200Z",
     "start_time": "2024-01-21T07:27:53.687979800Z"
    }
   },
   "id": "3487fbc4a824f0d7",
   "execution_count": 3
  },
  {
   "cell_type": "code",
   "execution_count": 5,
   "id": "initial_id",
   "metadata": {
    "collapsed": true,
    "ExecuteTime": {
     "end_time": "2024-01-21T07:37:23.785281Z",
     "start_time": "2024-01-21T07:37:23.778165200Z"
    }
   },
   "outputs": [],
   "source": [
    "\n",
    "df = pd.DataFrame(response.json(), columns=['time', 'open', 'high', 'low', 'close'])"
   ]
  },
  {
   "cell_type": "code",
   "outputs": [
    {
     "data": {
      "text/plain": "             time     open     high      low    close\n0   1698364800000  32953.0  34472.0  32953.0  34174.0\n1   1698710400000  33899.0  34556.0  33899.0  34499.0\n2   1698969600000  34672.0  35457.0  34672.0  34924.0\n3   1699315200000  34731.0  35062.0  34731.0  35031.0\n4   1699660800000  35437.0  37344.0  35437.0  37344.0\n5   1700006400000  37123.0  37123.0  35545.0  35545.0\n6   1700352000000  37904.0  37904.0  36202.0  36582.0\n7   1700697600000  37414.0  37489.0  35965.0  37465.0\n8   1701043200000  37293.0  37810.0  37293.0  37492.0\n9   1701302400000  37250.0  37810.0  37250.0  37810.0\n10  1701561600000  37712.0  39482.0  37712.0  39482.0\n11  1701907200000  39960.0  44106.0  39960.0  43788.0\n12  1702252800000  43270.0  44202.0  43270.0  43758.0\n13  1702598400000  41201.0  43010.0  41201.0  43010.0\n14  1702944000000  41992.0  42684.0  41411.0  42684.0\n15  1703289600000  42250.0  44004.0  42250.0  44004.0\n16  1703635200000  43752.0  43752.0  42516.0  42516.0\n17  1703980800000  43418.0  43418.0  42075.0  42221.0\n18  1704240000000  42208.0  44995.0  42208.0  44995.0\n19  1704585600000  42822.0  44196.0  42822.0  43956.0\n20  1704931200000  43884.0  46936.0  43884.0  46632.0\n21  1705276800000  46314.0  46314.0  41801.0  41801.0\n22  1705622400000  42587.0  43148.0  41261.0  41261.0\n23  1705968000000  41601.0  41626.0  41601.0  41626.0",
      "text/html": "<div>\n<style scoped>\n    .dataframe tbody tr th:only-of-type {\n        vertical-align: middle;\n    }\n\n    .dataframe tbody tr th {\n        vertical-align: top;\n    }\n\n    .dataframe thead th {\n        text-align: right;\n    }\n</style>\n<table border=\"1\" class=\"dataframe\">\n  <thead>\n    <tr style=\"text-align: right;\">\n      <th></th>\n      <th>time</th>\n      <th>open</th>\n      <th>high</th>\n      <th>low</th>\n      <th>close</th>\n    </tr>\n  </thead>\n  <tbody>\n    <tr>\n      <th>0</th>\n      <td>1698364800000</td>\n      <td>32953.0</td>\n      <td>34472.0</td>\n      <td>32953.0</td>\n      <td>34174.0</td>\n    </tr>\n    <tr>\n      <th>1</th>\n      <td>1698710400000</td>\n      <td>33899.0</td>\n      <td>34556.0</td>\n      <td>33899.0</td>\n      <td>34499.0</td>\n    </tr>\n    <tr>\n      <th>2</th>\n      <td>1698969600000</td>\n      <td>34672.0</td>\n      <td>35457.0</td>\n      <td>34672.0</td>\n      <td>34924.0</td>\n    </tr>\n    <tr>\n      <th>3</th>\n      <td>1699315200000</td>\n      <td>34731.0</td>\n      <td>35062.0</td>\n      <td>34731.0</td>\n      <td>35031.0</td>\n    </tr>\n    <tr>\n      <th>4</th>\n      <td>1699660800000</td>\n      <td>35437.0</td>\n      <td>37344.0</td>\n      <td>35437.0</td>\n      <td>37344.0</td>\n    </tr>\n    <tr>\n      <th>5</th>\n      <td>1700006400000</td>\n      <td>37123.0</td>\n      <td>37123.0</td>\n      <td>35545.0</td>\n      <td>35545.0</td>\n    </tr>\n    <tr>\n      <th>6</th>\n      <td>1700352000000</td>\n      <td>37904.0</td>\n      <td>37904.0</td>\n      <td>36202.0</td>\n      <td>36582.0</td>\n    </tr>\n    <tr>\n      <th>7</th>\n      <td>1700697600000</td>\n      <td>37414.0</td>\n      <td>37489.0</td>\n      <td>35965.0</td>\n      <td>37465.0</td>\n    </tr>\n    <tr>\n      <th>8</th>\n      <td>1701043200000</td>\n      <td>37293.0</td>\n      <td>37810.0</td>\n      <td>37293.0</td>\n      <td>37492.0</td>\n    </tr>\n    <tr>\n      <th>9</th>\n      <td>1701302400000</td>\n      <td>37250.0</td>\n      <td>37810.0</td>\n      <td>37250.0</td>\n      <td>37810.0</td>\n    </tr>\n    <tr>\n      <th>10</th>\n      <td>1701561600000</td>\n      <td>37712.0</td>\n      <td>39482.0</td>\n      <td>37712.0</td>\n      <td>39482.0</td>\n    </tr>\n    <tr>\n      <th>11</th>\n      <td>1701907200000</td>\n      <td>39960.0</td>\n      <td>44106.0</td>\n      <td>39960.0</td>\n      <td>43788.0</td>\n    </tr>\n    <tr>\n      <th>12</th>\n      <td>1702252800000</td>\n      <td>43270.0</td>\n      <td>44202.0</td>\n      <td>43270.0</td>\n      <td>43758.0</td>\n    </tr>\n    <tr>\n      <th>13</th>\n      <td>1702598400000</td>\n      <td>41201.0</td>\n      <td>43010.0</td>\n      <td>41201.0</td>\n      <td>43010.0</td>\n    </tr>\n    <tr>\n      <th>14</th>\n      <td>1702944000000</td>\n      <td>41992.0</td>\n      <td>42684.0</td>\n      <td>41411.0</td>\n      <td>42684.0</td>\n    </tr>\n    <tr>\n      <th>15</th>\n      <td>1703289600000</td>\n      <td>42250.0</td>\n      <td>44004.0</td>\n      <td>42250.0</td>\n      <td>44004.0</td>\n    </tr>\n    <tr>\n      <th>16</th>\n      <td>1703635200000</td>\n      <td>43752.0</td>\n      <td>43752.0</td>\n      <td>42516.0</td>\n      <td>42516.0</td>\n    </tr>\n    <tr>\n      <th>17</th>\n      <td>1703980800000</td>\n      <td>43418.0</td>\n      <td>43418.0</td>\n      <td>42075.0</td>\n      <td>42221.0</td>\n    </tr>\n    <tr>\n      <th>18</th>\n      <td>1704240000000</td>\n      <td>42208.0</td>\n      <td>44995.0</td>\n      <td>42208.0</td>\n      <td>44995.0</td>\n    </tr>\n    <tr>\n      <th>19</th>\n      <td>1704585600000</td>\n      <td>42822.0</td>\n      <td>44196.0</td>\n      <td>42822.0</td>\n      <td>43956.0</td>\n    </tr>\n    <tr>\n      <th>20</th>\n      <td>1704931200000</td>\n      <td>43884.0</td>\n      <td>46936.0</td>\n      <td>43884.0</td>\n      <td>46632.0</td>\n    </tr>\n    <tr>\n      <th>21</th>\n      <td>1705276800000</td>\n      <td>46314.0</td>\n      <td>46314.0</td>\n      <td>41801.0</td>\n      <td>41801.0</td>\n    </tr>\n    <tr>\n      <th>22</th>\n      <td>1705622400000</td>\n      <td>42587.0</td>\n      <td>43148.0</td>\n      <td>41261.0</td>\n      <td>41261.0</td>\n    </tr>\n    <tr>\n      <th>23</th>\n      <td>1705968000000</td>\n      <td>41601.0</td>\n      <td>41626.0</td>\n      <td>41601.0</td>\n      <td>41626.0</td>\n    </tr>\n  </tbody>\n</table>\n</div>"
     },
     "execution_count": 6,
     "metadata": {},
     "output_type": "execute_result"
    }
   ],
   "source": [
    "df"
   ],
   "metadata": {
    "collapsed": false,
    "ExecuteTime": {
     "end_time": "2024-01-21T07:37:25.014054200Z",
     "start_time": "2024-01-21T07:37:24.959949600Z"
    }
   },
   "id": "53141524bc72295c",
   "execution_count": 6
  },
  {
   "cell_type": "code",
   "outputs": [
    {
     "data": {
      "text/plain": "         time     open     high      low    close\n0  2023-10-27  32953.0  34472.0  32953.0  34174.0\n1  2023-10-31  33899.0  34556.0  33899.0  34499.0\n2  2023-11-03  34672.0  35457.0  34672.0  34924.0\n3  2023-11-07  34731.0  35062.0  34731.0  35031.0\n4  2023-11-11  35437.0  37344.0  35437.0  37344.0\n5  2023-11-15  37123.0  37123.0  35545.0  35545.0\n6  2023-11-19  37904.0  37904.0  36202.0  36582.0\n7  2023-11-23  37414.0  37489.0  35965.0  37465.0\n8  2023-11-27  37293.0  37810.0  37293.0  37492.0\n9  2023-11-30  37250.0  37810.0  37250.0  37810.0\n10 2023-12-03  37712.0  39482.0  37712.0  39482.0\n11 2023-12-07  39960.0  44106.0  39960.0  43788.0\n12 2023-12-11  43270.0  44202.0  43270.0  43758.0\n13 2023-12-15  41201.0  43010.0  41201.0  43010.0\n14 2023-12-19  41992.0  42684.0  41411.0  42684.0\n15 2023-12-23  42250.0  44004.0  42250.0  44004.0\n16 2023-12-27  43752.0  43752.0  42516.0  42516.0\n17 2023-12-31  43418.0  43418.0  42075.0  42221.0\n18 2024-01-03  42208.0  44995.0  42208.0  44995.0\n19 2024-01-07  42822.0  44196.0  42822.0  43956.0\n20 2024-01-11  43884.0  46936.0  43884.0  46632.0\n21 2024-01-15  46314.0  46314.0  41801.0  41801.0\n22 2024-01-19  42587.0  43148.0  41261.0  41261.0\n23 2024-01-23  41601.0  41626.0  41601.0  41626.0",
      "text/html": "<div>\n<style scoped>\n    .dataframe tbody tr th:only-of-type {\n        vertical-align: middle;\n    }\n\n    .dataframe tbody tr th {\n        vertical-align: top;\n    }\n\n    .dataframe thead th {\n        text-align: right;\n    }\n</style>\n<table border=\"1\" class=\"dataframe\">\n  <thead>\n    <tr style=\"text-align: right;\">\n      <th></th>\n      <th>time</th>\n      <th>open</th>\n      <th>high</th>\n      <th>low</th>\n      <th>close</th>\n    </tr>\n  </thead>\n  <tbody>\n    <tr>\n      <th>0</th>\n      <td>2023-10-27</td>\n      <td>32953.0</td>\n      <td>34472.0</td>\n      <td>32953.0</td>\n      <td>34174.0</td>\n    </tr>\n    <tr>\n      <th>1</th>\n      <td>2023-10-31</td>\n      <td>33899.0</td>\n      <td>34556.0</td>\n      <td>33899.0</td>\n      <td>34499.0</td>\n    </tr>\n    <tr>\n      <th>2</th>\n      <td>2023-11-03</td>\n      <td>34672.0</td>\n      <td>35457.0</td>\n      <td>34672.0</td>\n      <td>34924.0</td>\n    </tr>\n    <tr>\n      <th>3</th>\n      <td>2023-11-07</td>\n      <td>34731.0</td>\n      <td>35062.0</td>\n      <td>34731.0</td>\n      <td>35031.0</td>\n    </tr>\n    <tr>\n      <th>4</th>\n      <td>2023-11-11</td>\n      <td>35437.0</td>\n      <td>37344.0</td>\n      <td>35437.0</td>\n      <td>37344.0</td>\n    </tr>\n    <tr>\n      <th>5</th>\n      <td>2023-11-15</td>\n      <td>37123.0</td>\n      <td>37123.0</td>\n      <td>35545.0</td>\n      <td>35545.0</td>\n    </tr>\n    <tr>\n      <th>6</th>\n      <td>2023-11-19</td>\n      <td>37904.0</td>\n      <td>37904.0</td>\n      <td>36202.0</td>\n      <td>36582.0</td>\n    </tr>\n    <tr>\n      <th>7</th>\n      <td>2023-11-23</td>\n      <td>37414.0</td>\n      <td>37489.0</td>\n      <td>35965.0</td>\n      <td>37465.0</td>\n    </tr>\n    <tr>\n      <th>8</th>\n      <td>2023-11-27</td>\n      <td>37293.0</td>\n      <td>37810.0</td>\n      <td>37293.0</td>\n      <td>37492.0</td>\n    </tr>\n    <tr>\n      <th>9</th>\n      <td>2023-11-30</td>\n      <td>37250.0</td>\n      <td>37810.0</td>\n      <td>37250.0</td>\n      <td>37810.0</td>\n    </tr>\n    <tr>\n      <th>10</th>\n      <td>2023-12-03</td>\n      <td>37712.0</td>\n      <td>39482.0</td>\n      <td>37712.0</td>\n      <td>39482.0</td>\n    </tr>\n    <tr>\n      <th>11</th>\n      <td>2023-12-07</td>\n      <td>39960.0</td>\n      <td>44106.0</td>\n      <td>39960.0</td>\n      <td>43788.0</td>\n    </tr>\n    <tr>\n      <th>12</th>\n      <td>2023-12-11</td>\n      <td>43270.0</td>\n      <td>44202.0</td>\n      <td>43270.0</td>\n      <td>43758.0</td>\n    </tr>\n    <tr>\n      <th>13</th>\n      <td>2023-12-15</td>\n      <td>41201.0</td>\n      <td>43010.0</td>\n      <td>41201.0</td>\n      <td>43010.0</td>\n    </tr>\n    <tr>\n      <th>14</th>\n      <td>2023-12-19</td>\n      <td>41992.0</td>\n      <td>42684.0</td>\n      <td>41411.0</td>\n      <td>42684.0</td>\n    </tr>\n    <tr>\n      <th>15</th>\n      <td>2023-12-23</td>\n      <td>42250.0</td>\n      <td>44004.0</td>\n      <td>42250.0</td>\n      <td>44004.0</td>\n    </tr>\n    <tr>\n      <th>16</th>\n      <td>2023-12-27</td>\n      <td>43752.0</td>\n      <td>43752.0</td>\n      <td>42516.0</td>\n      <td>42516.0</td>\n    </tr>\n    <tr>\n      <th>17</th>\n      <td>2023-12-31</td>\n      <td>43418.0</td>\n      <td>43418.0</td>\n      <td>42075.0</td>\n      <td>42221.0</td>\n    </tr>\n    <tr>\n      <th>18</th>\n      <td>2024-01-03</td>\n      <td>42208.0</td>\n      <td>44995.0</td>\n      <td>42208.0</td>\n      <td>44995.0</td>\n    </tr>\n    <tr>\n      <th>19</th>\n      <td>2024-01-07</td>\n      <td>42822.0</td>\n      <td>44196.0</td>\n      <td>42822.0</td>\n      <td>43956.0</td>\n    </tr>\n    <tr>\n      <th>20</th>\n      <td>2024-01-11</td>\n      <td>43884.0</td>\n      <td>46936.0</td>\n      <td>43884.0</td>\n      <td>46632.0</td>\n    </tr>\n    <tr>\n      <th>21</th>\n      <td>2024-01-15</td>\n      <td>46314.0</td>\n      <td>46314.0</td>\n      <td>41801.0</td>\n      <td>41801.0</td>\n    </tr>\n    <tr>\n      <th>22</th>\n      <td>2024-01-19</td>\n      <td>42587.0</td>\n      <td>43148.0</td>\n      <td>41261.0</td>\n      <td>41261.0</td>\n    </tr>\n    <tr>\n      <th>23</th>\n      <td>2024-01-23</td>\n      <td>41601.0</td>\n      <td>41626.0</td>\n      <td>41601.0</td>\n      <td>41626.0</td>\n    </tr>\n  </tbody>\n</table>\n</div>"
     },
     "execution_count": 7,
     "metadata": {},
     "output_type": "execute_result"
    }
   ],
   "source": [
    "df['time'] = pd.to_datetime(df['time'], unit='ms')\n",
    "df"
   ],
   "metadata": {
    "collapsed": false,
    "ExecuteTime": {
     "end_time": "2024-01-21T07:37:36.461858400Z",
     "start_time": "2024-01-21T07:37:36.422324500Z"
    }
   },
   "id": "f3bedc236ea27d30",
   "execution_count": 7
  },
  {
   "cell_type": "code",
   "outputs": [],
   "source": [
    "# get the same ohlc data from cryptocompare\n",
    "CRYPTOCOMPARE_API_KEY = os.getenv('CRYPTOCOMPARE_API_KEY')"
   ],
   "metadata": {
    "collapsed": false,
    "ExecuteTime": {
     "end_time": "2024-01-21T07:55:18.237954Z",
     "start_time": "2024-01-21T07:55:18.221571600Z"
    }
   },
   "id": "eea1d53346c525c",
   "execution_count": 3
  },
  {
   "cell_type": "code",
   "outputs": [
    {
     "data": {
      "text/plain": "{'Aggregated': False,\n 'TimeFrom': 1703203200,\n 'TimeTo': 1705795200,\n 'Data': [{'time': 1703203200,\n   'high': 44417.78,\n   'low': 43426.51,\n   'open': 43875.01,\n   'volumefrom': 24740.39,\n   'volumeto': 1084076406.5,\n   'close': 44008.04,\n   'conversionType': 'direct',\n   'conversionSymbol': ''},\n  {'time': 1703289600,\n   'high': 44024.62,\n   'low': 43338.34,\n   'open': 44008.04,\n   'volumefrom': 10973.31,\n   'volumeto': 479555333.8,\n   'close': 43732.75,\n   'conversionType': 'direct',\n   'conversionSymbol': ''},\n  {'time': 1703376000,\n   'high': 43965.2,\n   'low': 42635.13,\n   'open': 43732.75,\n   'volumefrom': 14281.15,\n   'volumeto': 621424795.87,\n   'close': 43023.12,\n   'conversionType': 'direct',\n   'conversionSymbol': ''},\n  {'time': 1703462400,\n   'high': 43808.21,\n   'low': 42763.83,\n   'open': 43023.12,\n   'volumefrom': 14747.02,\n   'volumeto': 639501515.36,\n   'close': 43593.79,\n   'conversionType': 'direct',\n   'conversionSymbol': ''},\n  {'time': 1703548800,\n   'high': 43604.51,\n   'low': 41616.59,\n   'open': 43593.79,\n   'volumefrom': 30529.57,\n   'volumeto': 1297798884.96,\n   'close': 42517.32,\n   'conversionType': 'direct',\n   'conversionSymbol': ''},\n  {'time': 1703635200,\n   'high': 43694.83,\n   'low': 42121.77,\n   'open': 42517.32,\n   'volumefrom': 27420.29,\n   'volumeto': 1178861473.09,\n   'close': 43469.34,\n   'conversionType': 'direct',\n   'conversionSymbol': ''},\n  {'time': 1703721600,\n   'high': 43817.61,\n   'low': 42283.91,\n   'open': 43469.34,\n   'volumefrom': 29112.04,\n   'volumeto': 1249335317.05,\n   'close': 42588.94,\n   'conversionType': 'direct',\n   'conversionSymbol': ''},\n  {'time': 1703808000,\n   'high': 43134.59,\n   'low': 41296.86,\n   'open': 42588.94,\n   'volumefrom': 34268.41,\n   'volumeto': 1450476730.93,\n   'close': 42073.59,\n   'conversionType': 'direct',\n   'conversionSymbol': ''},\n  {'time': 1703894400,\n   'high': 42595.81,\n   'low': 41529.95,\n   'open': 42073.59,\n   'volumefrom': 21511.57,\n   'volumeto': 905852574.49,\n   'close': 42146.03,\n   'conversionType': 'direct',\n   'conversionSymbol': ''},\n  {'time': 1703980800,\n   'high': 42863.11,\n   'low': 41970.37,\n   'open': 42146.03,\n   'volumefrom': 21509.24,\n   'volumeto': 912867128.16,\n   'close': 42280.14,\n   'conversionType': 'direct',\n   'conversionSymbol': ''},\n  {'time': 1704067200,\n   'high': 44210.89,\n   'low': 42187.32,\n   'open': 42280.14,\n   'volumefrom': 19499.59,\n   'volumeto': 839894208.67,\n   'close': 44197.61,\n   'conversionType': 'direct',\n   'conversionSymbol': ''},\n  {'time': 1704153600,\n   'high': 45918.98,\n   'low': 44181.86,\n   'open': 44197.61,\n   'volumefrom': 57443.36,\n   'volumeto': 2596745174.99,\n   'close': 44970.34,\n   'conversionType': 'direct',\n   'conversionSymbol': ''},\n  {'time': 1704240000,\n   'high': 45513.73,\n   'low': 40214.67,\n   'open': 44970.34,\n   'volumefrom': 82056.19,\n   'volumeto': 3533041051.83,\n   'close': 42854.08,\n   'conversionType': 'direct',\n   'conversionSymbol': ''},\n  {'time': 1704326400,\n   'high': 44797.03,\n   'low': 42657.44,\n   'open': 42854.08,\n   'volumefrom': 49538.94,\n   'volumeto': 2167748750.23,\n   'close': 44194.38,\n   'conversionType': 'direct',\n   'conversionSymbol': ''},\n  {'time': 1704412800,\n   'high': 44377.15,\n   'low': 42508.08,\n   'open': 44194.38,\n   'volumefrom': 54169.3,\n   'volumeto': 2368276569.22,\n   'close': 44178.89,\n   'conversionType': 'direct',\n   'conversionSymbol': ''},\n  {'time': 1704499200,\n   'high': 44248.4,\n   'low': 43444.9,\n   'open': 44178.89,\n   'volumefrom': 16352.13,\n   'volumeto': 717065469.35,\n   'close': 43988.33,\n   'conversionType': 'direct',\n   'conversionSymbol': ''},\n  {'time': 1704585600,\n   'high': 44496.47,\n   'low': 43639.57,\n   'open': 43988.33,\n   'volumefrom': 20056.41,\n   'volumeto': 884154712.5,\n   'close': 43950.84,\n   'conversionType': 'direct',\n   'conversionSymbol': ''},\n  {'time': 1704672000,\n   'high': 47295.94,\n   'low': 43209.8,\n   'open': 43950.84,\n   'volumefrom': 66057.64,\n   'volumeto': 3000303504.99,\n   'close': 46988.14,\n   'conversionType': 'direct',\n   'conversionSymbol': ''},\n  {'time': 1704758400,\n   'high': 47923.17,\n   'low': 44889.64,\n   'open': 46988.14,\n   'volumefrom': 66281.93,\n   'volumeto': 3083632967.78,\n   'close': 46123,\n   'conversionType': 'direct',\n   'conversionSymbol': ''},\n  {'time': 1704844800,\n   'high': 47705.84,\n   'low': 44326.32,\n   'open': 46123,\n   'volumefrom': 80226.64,\n   'volumeto': 3677964834.63,\n   'close': 46667.48,\n   'conversionType': 'direct',\n   'conversionSymbol': ''},\n  {'time': 1704931200,\n   'high': 49054.05,\n   'low': 45580.11,\n   'open': 46667.48,\n   'volumefrom': 77548.89,\n   'volumeto': 3638877778.74,\n   'close': 46353.15,\n   'conversionType': 'direct',\n   'conversionSymbol': ''},\n  {'time': 1705017600,\n   'high': 46512.17,\n   'low': 41454.57,\n   'open': 46353.15,\n   'volumefrom': 87031.78,\n   'volumeto': 3855256978.62,\n   'close': 42776.42,\n   'conversionType': 'direct',\n   'conversionSymbol': ''},\n  {'time': 1705104000,\n   'high': 43243.47,\n   'low': 42438.36,\n   'open': 42776.42,\n   'volumefrom': 23024.72,\n   'volumeto': 986309535.03,\n   'close': 42839.19,\n   'conversionType': 'direct',\n   'conversionSymbol': ''},\n  {'time': 1705190400,\n   'high': 43060.49,\n   'low': 41702.53,\n   'open': 42839.19,\n   'volumefrom': 21730.6,\n   'volumeto': 924871801.97,\n   'close': 41704.39,\n   'conversionType': 'direct',\n   'conversionSymbol': ''},\n  {'time': 1705276800,\n   'high': 43325.88,\n   'low': 41687.69,\n   'open': 41704.39,\n   'volumefrom': 24561.1,\n   'volumeto': 1046074902.52,\n   'close': 42491.26,\n   'conversionType': 'direct',\n   'conversionSymbol': ''},\n  {'time': 1705363200,\n   'high': 43562.19,\n   'low': 42047.82,\n   'open': 42491.26,\n   'volumefrom': 36429.24,\n   'volumeto': 1565259395.93,\n   'close': 43130.88,\n   'conversionType': 'direct',\n   'conversionSymbol': ''},\n  {'time': 1705449600,\n   'high': 43183.19,\n   'low': 42172.64,\n   'open': 43130.88,\n   'volumefrom': 32911.24,\n   'volumeto': 1403011843.2,\n   'close': 42739.27,\n   'conversionType': 'direct',\n   'conversionSymbol': ''},\n  {'time': 1705536000,\n   'high': 42876.35,\n   'low': 40606.86,\n   'open': 42739.27,\n   'volumefrom': 45180.42,\n   'volumeto': 1885882508.36,\n   'close': 41286.68,\n   'conversionType': 'direct',\n   'conversionSymbol': ''},\n  {'time': 1705622400,\n   'high': 42151.57,\n   'low': 40246.58,\n   'open': 41286.68,\n   'volumefrom': 45191.13,\n   'volumeto': 1864062474.18,\n   'close': 41625.47,\n   'conversionType': 'direct',\n   'conversionSymbol': ''},\n  {'time': 1705708800,\n   'high': 41846.45,\n   'low': 41433.27,\n   'open': 41625.47,\n   'volumefrom': 13096.14,\n   'volumeto': 544668570.57,\n   'close': 41677.08,\n   'conversionType': 'direct',\n   'conversionSymbol': ''},\n  {'time': 1705795200,\n   'high': 41717.76,\n   'low': 41561.84,\n   'open': 41677.08,\n   'volumefrom': 2581.67,\n   'volumeto': 107554080.42,\n   'close': 41649.21,\n   'conversionType': 'direct',\n   'conversionSymbol': ''}]}"
     },
     "execution_count": 8,
     "metadata": {},
     "output_type": "execute_result"
    }
   ],
   "source": [
    "url = 'https://min-api.cryptocompare.com/data/v2/histoday'\n",
    "\n",
    "params = {\n",
    "  'fsym': 'BTC', \n",
    "  'tsym': 'USD',\n",
    "  'limit': 30,\n",
    "  'aggregate': 1,\n",
    "  'api_key': CRYPTOCOMPARE_API_KEY\n",
    "}\n",
    "\n",
    "response = requests.get(url, params=params)\n",
    "\n",
    "data = response.json()['Data']\n",
    "data"
   ],
   "metadata": {
    "collapsed": false,
    "ExecuteTime": {
     "end_time": "2024-01-21T08:00:59.158706600Z",
     "start_time": "2024-01-21T08:00:57.835276600Z"
    }
   },
   "id": "a7958739efa51ba4",
   "execution_count": 8
  },
  {
   "cell_type": "code",
   "outputs": [
    {
     "data": {
      "text/plain": "         time      high       low      open  volumefrom      volumeto  \\\n0  2023-12-22  44417.78  43426.51  43875.01    24740.39  1.084076e+09   \n1  2023-12-23  44024.62  43338.34  44008.04    10973.31  4.795553e+08   \n2  2023-12-24  43965.20  42635.13  43732.75    14281.15  6.214248e+08   \n3  2023-12-25  43808.21  42763.83  43023.12    14747.02  6.395015e+08   \n4  2023-12-26  43604.51  41616.59  43593.79    30529.57  1.297799e+09   \n5  2023-12-27  43694.83  42121.77  42517.32    27420.29  1.178861e+09   \n6  2023-12-28  43817.61  42283.91  43469.34    29112.04  1.249335e+09   \n7  2023-12-29  43134.59  41296.86  42588.94    34268.41  1.450477e+09   \n8  2023-12-30  42595.81  41529.95  42073.59    21511.57  9.058526e+08   \n9  2023-12-31  42863.11  41970.37  42146.03    21509.24  9.128671e+08   \n10 2024-01-01  44210.89  42187.32  42280.14    19499.59  8.398942e+08   \n11 2024-01-02  45918.98  44181.86  44197.61    57443.36  2.596745e+09   \n12 2024-01-03  45513.73  40214.67  44970.34    82056.19  3.533041e+09   \n13 2024-01-04  44797.03  42657.44  42854.08    49538.94  2.167749e+09   \n14 2024-01-05  44377.15  42508.08  44194.38    54169.30  2.368277e+09   \n15 2024-01-06  44248.40  43444.90  44178.89    16352.13  7.170655e+08   \n16 2024-01-07  44496.47  43639.57  43988.33    20056.41  8.841547e+08   \n17 2024-01-08  47295.94  43209.80  43950.84    66057.64  3.000304e+09   \n18 2024-01-09  47923.17  44889.64  46988.14    66281.93  3.083633e+09   \n19 2024-01-10  47705.84  44326.32  46123.00    80226.64  3.677965e+09   \n20 2024-01-11  49054.05  45580.11  46667.48    77548.89  3.638878e+09   \n21 2024-01-12  46512.17  41454.57  46353.15    87031.78  3.855257e+09   \n22 2024-01-13  43243.47  42438.36  42776.42    23024.72  9.863095e+08   \n23 2024-01-14  43060.49  41702.53  42839.19    21730.60  9.248718e+08   \n24 2024-01-15  43325.88  41687.69  41704.39    24561.10  1.046075e+09   \n25 2024-01-16  43562.19  42047.82  42491.26    36429.24  1.565259e+09   \n26 2024-01-17  43183.19  42172.64  43130.88    32911.24  1.403012e+09   \n27 2024-01-18  42876.35  40606.86  42739.27    45180.42  1.885883e+09   \n28 2024-01-19  42151.57  40246.58  41286.68    45191.13  1.864062e+09   \n29 2024-01-20  41846.45  41433.27  41625.47    13096.14  5.446686e+08   \n30 2024-01-21  41717.76  41561.84  41677.08     2581.67  1.075541e+08   \n\n       close conversionType conversionSymbol  \n0   44008.04         direct                   \n1   43732.75         direct                   \n2   43023.12         direct                   \n3   43593.79         direct                   \n4   42517.32         direct                   \n5   43469.34         direct                   \n6   42588.94         direct                   \n7   42073.59         direct                   \n8   42146.03         direct                   \n9   42280.14         direct                   \n10  44197.61         direct                   \n11  44970.34         direct                   \n12  42854.08         direct                   \n13  44194.38         direct                   \n14  44178.89         direct                   \n15  43988.33         direct                   \n16  43950.84         direct                   \n17  46988.14         direct                   \n18  46123.00         direct                   \n19  46667.48         direct                   \n20  46353.15         direct                   \n21  42776.42         direct                   \n22  42839.19         direct                   \n23  41704.39         direct                   \n24  42491.26         direct                   \n25  43130.88         direct                   \n26  42739.27         direct                   \n27  41286.68         direct                   \n28  41625.47         direct                   \n29  41677.08         direct                   \n30  41649.21         direct                   ",
      "text/html": "<div>\n<style scoped>\n    .dataframe tbody tr th:only-of-type {\n        vertical-align: middle;\n    }\n\n    .dataframe tbody tr th {\n        vertical-align: top;\n    }\n\n    .dataframe thead th {\n        text-align: right;\n    }\n</style>\n<table border=\"1\" class=\"dataframe\">\n  <thead>\n    <tr style=\"text-align: right;\">\n      <th></th>\n      <th>time</th>\n      <th>high</th>\n      <th>low</th>\n      <th>open</th>\n      <th>volumefrom</th>\n      <th>volumeto</th>\n      <th>close</th>\n      <th>conversionType</th>\n      <th>conversionSymbol</th>\n    </tr>\n  </thead>\n  <tbody>\n    <tr>\n      <th>0</th>\n      <td>2023-12-22</td>\n      <td>44417.78</td>\n      <td>43426.51</td>\n      <td>43875.01</td>\n      <td>24740.39</td>\n      <td>1.084076e+09</td>\n      <td>44008.04</td>\n      <td>direct</td>\n      <td></td>\n    </tr>\n    <tr>\n      <th>1</th>\n      <td>2023-12-23</td>\n      <td>44024.62</td>\n      <td>43338.34</td>\n      <td>44008.04</td>\n      <td>10973.31</td>\n      <td>4.795553e+08</td>\n      <td>43732.75</td>\n      <td>direct</td>\n      <td></td>\n    </tr>\n    <tr>\n      <th>2</th>\n      <td>2023-12-24</td>\n      <td>43965.20</td>\n      <td>42635.13</td>\n      <td>43732.75</td>\n      <td>14281.15</td>\n      <td>6.214248e+08</td>\n      <td>43023.12</td>\n      <td>direct</td>\n      <td></td>\n    </tr>\n    <tr>\n      <th>3</th>\n      <td>2023-12-25</td>\n      <td>43808.21</td>\n      <td>42763.83</td>\n      <td>43023.12</td>\n      <td>14747.02</td>\n      <td>6.395015e+08</td>\n      <td>43593.79</td>\n      <td>direct</td>\n      <td></td>\n    </tr>\n    <tr>\n      <th>4</th>\n      <td>2023-12-26</td>\n      <td>43604.51</td>\n      <td>41616.59</td>\n      <td>43593.79</td>\n      <td>30529.57</td>\n      <td>1.297799e+09</td>\n      <td>42517.32</td>\n      <td>direct</td>\n      <td></td>\n    </tr>\n    <tr>\n      <th>5</th>\n      <td>2023-12-27</td>\n      <td>43694.83</td>\n      <td>42121.77</td>\n      <td>42517.32</td>\n      <td>27420.29</td>\n      <td>1.178861e+09</td>\n      <td>43469.34</td>\n      <td>direct</td>\n      <td></td>\n    </tr>\n    <tr>\n      <th>6</th>\n      <td>2023-12-28</td>\n      <td>43817.61</td>\n      <td>42283.91</td>\n      <td>43469.34</td>\n      <td>29112.04</td>\n      <td>1.249335e+09</td>\n      <td>42588.94</td>\n      <td>direct</td>\n      <td></td>\n    </tr>\n    <tr>\n      <th>7</th>\n      <td>2023-12-29</td>\n      <td>43134.59</td>\n      <td>41296.86</td>\n      <td>42588.94</td>\n      <td>34268.41</td>\n      <td>1.450477e+09</td>\n      <td>42073.59</td>\n      <td>direct</td>\n      <td></td>\n    </tr>\n    <tr>\n      <th>8</th>\n      <td>2023-12-30</td>\n      <td>42595.81</td>\n      <td>41529.95</td>\n      <td>42073.59</td>\n      <td>21511.57</td>\n      <td>9.058526e+08</td>\n      <td>42146.03</td>\n      <td>direct</td>\n      <td></td>\n    </tr>\n    <tr>\n      <th>9</th>\n      <td>2023-12-31</td>\n      <td>42863.11</td>\n      <td>41970.37</td>\n      <td>42146.03</td>\n      <td>21509.24</td>\n      <td>9.128671e+08</td>\n      <td>42280.14</td>\n      <td>direct</td>\n      <td></td>\n    </tr>\n    <tr>\n      <th>10</th>\n      <td>2024-01-01</td>\n      <td>44210.89</td>\n      <td>42187.32</td>\n      <td>42280.14</td>\n      <td>19499.59</td>\n      <td>8.398942e+08</td>\n      <td>44197.61</td>\n      <td>direct</td>\n      <td></td>\n    </tr>\n    <tr>\n      <th>11</th>\n      <td>2024-01-02</td>\n      <td>45918.98</td>\n      <td>44181.86</td>\n      <td>44197.61</td>\n      <td>57443.36</td>\n      <td>2.596745e+09</td>\n      <td>44970.34</td>\n      <td>direct</td>\n      <td></td>\n    </tr>\n    <tr>\n      <th>12</th>\n      <td>2024-01-03</td>\n      <td>45513.73</td>\n      <td>40214.67</td>\n      <td>44970.34</td>\n      <td>82056.19</td>\n      <td>3.533041e+09</td>\n      <td>42854.08</td>\n      <td>direct</td>\n      <td></td>\n    </tr>\n    <tr>\n      <th>13</th>\n      <td>2024-01-04</td>\n      <td>44797.03</td>\n      <td>42657.44</td>\n      <td>42854.08</td>\n      <td>49538.94</td>\n      <td>2.167749e+09</td>\n      <td>44194.38</td>\n      <td>direct</td>\n      <td></td>\n    </tr>\n    <tr>\n      <th>14</th>\n      <td>2024-01-05</td>\n      <td>44377.15</td>\n      <td>42508.08</td>\n      <td>44194.38</td>\n      <td>54169.30</td>\n      <td>2.368277e+09</td>\n      <td>44178.89</td>\n      <td>direct</td>\n      <td></td>\n    </tr>\n    <tr>\n      <th>15</th>\n      <td>2024-01-06</td>\n      <td>44248.40</td>\n      <td>43444.90</td>\n      <td>44178.89</td>\n      <td>16352.13</td>\n      <td>7.170655e+08</td>\n      <td>43988.33</td>\n      <td>direct</td>\n      <td></td>\n    </tr>\n    <tr>\n      <th>16</th>\n      <td>2024-01-07</td>\n      <td>44496.47</td>\n      <td>43639.57</td>\n      <td>43988.33</td>\n      <td>20056.41</td>\n      <td>8.841547e+08</td>\n      <td>43950.84</td>\n      <td>direct</td>\n      <td></td>\n    </tr>\n    <tr>\n      <th>17</th>\n      <td>2024-01-08</td>\n      <td>47295.94</td>\n      <td>43209.80</td>\n      <td>43950.84</td>\n      <td>66057.64</td>\n      <td>3.000304e+09</td>\n      <td>46988.14</td>\n      <td>direct</td>\n      <td></td>\n    </tr>\n    <tr>\n      <th>18</th>\n      <td>2024-01-09</td>\n      <td>47923.17</td>\n      <td>44889.64</td>\n      <td>46988.14</td>\n      <td>66281.93</td>\n      <td>3.083633e+09</td>\n      <td>46123.00</td>\n      <td>direct</td>\n      <td></td>\n    </tr>\n    <tr>\n      <th>19</th>\n      <td>2024-01-10</td>\n      <td>47705.84</td>\n      <td>44326.32</td>\n      <td>46123.00</td>\n      <td>80226.64</td>\n      <td>3.677965e+09</td>\n      <td>46667.48</td>\n      <td>direct</td>\n      <td></td>\n    </tr>\n    <tr>\n      <th>20</th>\n      <td>2024-01-11</td>\n      <td>49054.05</td>\n      <td>45580.11</td>\n      <td>46667.48</td>\n      <td>77548.89</td>\n      <td>3.638878e+09</td>\n      <td>46353.15</td>\n      <td>direct</td>\n      <td></td>\n    </tr>\n    <tr>\n      <th>21</th>\n      <td>2024-01-12</td>\n      <td>46512.17</td>\n      <td>41454.57</td>\n      <td>46353.15</td>\n      <td>87031.78</td>\n      <td>3.855257e+09</td>\n      <td>42776.42</td>\n      <td>direct</td>\n      <td></td>\n    </tr>\n    <tr>\n      <th>22</th>\n      <td>2024-01-13</td>\n      <td>43243.47</td>\n      <td>42438.36</td>\n      <td>42776.42</td>\n      <td>23024.72</td>\n      <td>9.863095e+08</td>\n      <td>42839.19</td>\n      <td>direct</td>\n      <td></td>\n    </tr>\n    <tr>\n      <th>23</th>\n      <td>2024-01-14</td>\n      <td>43060.49</td>\n      <td>41702.53</td>\n      <td>42839.19</td>\n      <td>21730.60</td>\n      <td>9.248718e+08</td>\n      <td>41704.39</td>\n      <td>direct</td>\n      <td></td>\n    </tr>\n    <tr>\n      <th>24</th>\n      <td>2024-01-15</td>\n      <td>43325.88</td>\n      <td>41687.69</td>\n      <td>41704.39</td>\n      <td>24561.10</td>\n      <td>1.046075e+09</td>\n      <td>42491.26</td>\n      <td>direct</td>\n      <td></td>\n    </tr>\n    <tr>\n      <th>25</th>\n      <td>2024-01-16</td>\n      <td>43562.19</td>\n      <td>42047.82</td>\n      <td>42491.26</td>\n      <td>36429.24</td>\n      <td>1.565259e+09</td>\n      <td>43130.88</td>\n      <td>direct</td>\n      <td></td>\n    </tr>\n    <tr>\n      <th>26</th>\n      <td>2024-01-17</td>\n      <td>43183.19</td>\n      <td>42172.64</td>\n      <td>43130.88</td>\n      <td>32911.24</td>\n      <td>1.403012e+09</td>\n      <td>42739.27</td>\n      <td>direct</td>\n      <td></td>\n    </tr>\n    <tr>\n      <th>27</th>\n      <td>2024-01-18</td>\n      <td>42876.35</td>\n      <td>40606.86</td>\n      <td>42739.27</td>\n      <td>45180.42</td>\n      <td>1.885883e+09</td>\n      <td>41286.68</td>\n      <td>direct</td>\n      <td></td>\n    </tr>\n    <tr>\n      <th>28</th>\n      <td>2024-01-19</td>\n      <td>42151.57</td>\n      <td>40246.58</td>\n      <td>41286.68</td>\n      <td>45191.13</td>\n      <td>1.864062e+09</td>\n      <td>41625.47</td>\n      <td>direct</td>\n      <td></td>\n    </tr>\n    <tr>\n      <th>29</th>\n      <td>2024-01-20</td>\n      <td>41846.45</td>\n      <td>41433.27</td>\n      <td>41625.47</td>\n      <td>13096.14</td>\n      <td>5.446686e+08</td>\n      <td>41677.08</td>\n      <td>direct</td>\n      <td></td>\n    </tr>\n    <tr>\n      <th>30</th>\n      <td>2024-01-21</td>\n      <td>41717.76</td>\n      <td>41561.84</td>\n      <td>41677.08</td>\n      <td>2581.67</td>\n      <td>1.075541e+08</td>\n      <td>41649.21</td>\n      <td>direct</td>\n      <td></td>\n    </tr>\n  </tbody>\n</table>\n</div>"
     },
     "execution_count": 12,
     "metadata": {},
     "output_type": "execute_result"
    }
   ],
   "source": [
    "df = pd.DataFrame(data['Data'])\n",
    "df['time'] = pd.to_datetime(df['time'], unit='s')\n",
    "df"
   ],
   "metadata": {
    "collapsed": false,
    "ExecuteTime": {
     "end_time": "2024-01-21T08:05:45.683443700Z",
     "start_time": "2024-01-21T08:05:45.635593300Z"
    }
   },
   "id": "a3ccd1d1a1f5efeb",
   "execution_count": 12
  },
  {
   "cell_type": "code",
   "outputs": [],
   "source": [],
   "metadata": {
    "collapsed": false
   },
   "id": "a0cd9a717ee15605"
  },
  {
   "cell_type": "code",
   "outputs": [],
   "source": [],
   "metadata": {
    "collapsed": false
   },
   "id": "8e0d49cea1009c0"
  },
  {
   "cell_type": "code",
   "outputs": [],
   "source": [],
   "metadata": {
    "collapsed": false
   },
   "id": "60024d9b334d0a39"
  },
  {
   "cell_type": "markdown",
   "source": [],
   "metadata": {
    "collapsed": false
   },
   "id": "7fbaebb695cbd358"
  },
  {
   "cell_type": "code",
   "outputs": [],
   "source": [],
   "metadata": {
    "collapsed": false
   },
   "id": "8efeae3daf9debf5"
  },
  {
   "cell_type": "code",
   "outputs": [
    {
     "data": {
      "text/plain": "         time            open            high             low           close  \\\n0  2021-01-01  28923.63000000  29600.00000000  28624.57000000  29331.69000000   \n1  2021-01-02  29331.70000000  33300.00000000  28946.53000000  32178.33000000   \n2  2021-01-03  32176.45000000  34778.11000000  31962.99000000  33000.05000000   \n3  2021-01-04  33000.05000000  33600.00000000  28130.00000000  31988.71000000   \n4  2021-01-05  31989.75000000  34360.00000000  29900.00000000  33949.53000000   \n..        ...             ...             ...             ...             ...   \n86 2021-03-28  55817.14000000  56559.75000000  54691.84000000  55777.63000000   \n87 2021-03-29  55777.65000000  58405.82000000  54800.01000000  57635.47000000   \n88 2021-03-30  57635.46000000  59368.00000000  57071.35000000  58746.57000000   \n89 2021-03-31  58746.57000000  59800.00000000  56769.00000000  58740.55000000   \n90 2021-04-01  58739.46000000  59490.00000000  57935.45000000  58720.44000000   \n\n             volume     close_time             quote_av   trades  \\\n0    54182.92501100  1609545599999  1582526989.16187265  1314910   \n1   129993.87336200  1609631999999  4073842163.67154117  2245922   \n2   120957.56675000  1609718399999  4057598425.49201649  2369698   \n3   140899.88569000  1609804799999  4429010349.69534487  2642408   \n4   116049.99703800  1609891199999  3743617144.64691529  2526851   \n..              ...            ...                  ...      ...   \n86   39050.38751100  1616975999999  2178777329.44521665  1551283   \n87   67857.93739800  1617062399999  3877131109.73464578  1983437   \n88   55122.44312200  1617148799999  3221944107.45503046  1612744   \n89   60975.54266600  1617235199999  3575976083.80457570  1928224   \n90   47415.61722000  1617321599999  2789238879.94337348  1594431   \n\n        tb_base_av          tb_quote_av ignore  \n0   27455.80172500   802247744.54510409      0  \n1   67446.30524600  2110334723.88714587      0  \n2   59750.33287100  2004428433.93184622      0  \n3   69088.46923000  2173435409.01698791      0  \n4   59691.75475500  1927195093.64154965      0  \n..             ...                  ...    ...  \n86  19262.72593500  1074959545.95900884      0  \n87  34373.80455600  1963800173.65605960      0  \n88  27541.52668000  1610812657.92990190      0  \n89  31074.81318700  1823822792.91045006      0  \n90  22966.25673600  1351151697.89222195      0  \n\n[91 rows x 12 columns]",
      "text/html": "<div>\n<style scoped>\n    .dataframe tbody tr th:only-of-type {\n        vertical-align: middle;\n    }\n\n    .dataframe tbody tr th {\n        vertical-align: top;\n    }\n\n    .dataframe thead th {\n        text-align: right;\n    }\n</style>\n<table border=\"1\" class=\"dataframe\">\n  <thead>\n    <tr style=\"text-align: right;\">\n      <th></th>\n      <th>time</th>\n      <th>open</th>\n      <th>high</th>\n      <th>low</th>\n      <th>close</th>\n      <th>volume</th>\n      <th>close_time</th>\n      <th>quote_av</th>\n      <th>trades</th>\n      <th>tb_base_av</th>\n      <th>tb_quote_av</th>\n      <th>ignore</th>\n    </tr>\n  </thead>\n  <tbody>\n    <tr>\n      <th>0</th>\n      <td>2021-01-01</td>\n      <td>28923.63000000</td>\n      <td>29600.00000000</td>\n      <td>28624.57000000</td>\n      <td>29331.69000000</td>\n      <td>54182.92501100</td>\n      <td>1609545599999</td>\n      <td>1582526989.16187265</td>\n      <td>1314910</td>\n      <td>27455.80172500</td>\n      <td>802247744.54510409</td>\n      <td>0</td>\n    </tr>\n    <tr>\n      <th>1</th>\n      <td>2021-01-02</td>\n      <td>29331.70000000</td>\n      <td>33300.00000000</td>\n      <td>28946.53000000</td>\n      <td>32178.33000000</td>\n      <td>129993.87336200</td>\n      <td>1609631999999</td>\n      <td>4073842163.67154117</td>\n      <td>2245922</td>\n      <td>67446.30524600</td>\n      <td>2110334723.88714587</td>\n      <td>0</td>\n    </tr>\n    <tr>\n      <th>2</th>\n      <td>2021-01-03</td>\n      <td>32176.45000000</td>\n      <td>34778.11000000</td>\n      <td>31962.99000000</td>\n      <td>33000.05000000</td>\n      <td>120957.56675000</td>\n      <td>1609718399999</td>\n      <td>4057598425.49201649</td>\n      <td>2369698</td>\n      <td>59750.33287100</td>\n      <td>2004428433.93184622</td>\n      <td>0</td>\n    </tr>\n    <tr>\n      <th>3</th>\n      <td>2021-01-04</td>\n      <td>33000.05000000</td>\n      <td>33600.00000000</td>\n      <td>28130.00000000</td>\n      <td>31988.71000000</td>\n      <td>140899.88569000</td>\n      <td>1609804799999</td>\n      <td>4429010349.69534487</td>\n      <td>2642408</td>\n      <td>69088.46923000</td>\n      <td>2173435409.01698791</td>\n      <td>0</td>\n    </tr>\n    <tr>\n      <th>4</th>\n      <td>2021-01-05</td>\n      <td>31989.75000000</td>\n      <td>34360.00000000</td>\n      <td>29900.00000000</td>\n      <td>33949.53000000</td>\n      <td>116049.99703800</td>\n      <td>1609891199999</td>\n      <td>3743617144.64691529</td>\n      <td>2526851</td>\n      <td>59691.75475500</td>\n      <td>1927195093.64154965</td>\n      <td>0</td>\n    </tr>\n    <tr>\n      <th>...</th>\n      <td>...</td>\n      <td>...</td>\n      <td>...</td>\n      <td>...</td>\n      <td>...</td>\n      <td>...</td>\n      <td>...</td>\n      <td>...</td>\n      <td>...</td>\n      <td>...</td>\n      <td>...</td>\n      <td>...</td>\n    </tr>\n    <tr>\n      <th>86</th>\n      <td>2021-03-28</td>\n      <td>55817.14000000</td>\n      <td>56559.75000000</td>\n      <td>54691.84000000</td>\n      <td>55777.63000000</td>\n      <td>39050.38751100</td>\n      <td>1616975999999</td>\n      <td>2178777329.44521665</td>\n      <td>1551283</td>\n      <td>19262.72593500</td>\n      <td>1074959545.95900884</td>\n      <td>0</td>\n    </tr>\n    <tr>\n      <th>87</th>\n      <td>2021-03-29</td>\n      <td>55777.65000000</td>\n      <td>58405.82000000</td>\n      <td>54800.01000000</td>\n      <td>57635.47000000</td>\n      <td>67857.93739800</td>\n      <td>1617062399999</td>\n      <td>3877131109.73464578</td>\n      <td>1983437</td>\n      <td>34373.80455600</td>\n      <td>1963800173.65605960</td>\n      <td>0</td>\n    </tr>\n    <tr>\n      <th>88</th>\n      <td>2021-03-30</td>\n      <td>57635.46000000</td>\n      <td>59368.00000000</td>\n      <td>57071.35000000</td>\n      <td>58746.57000000</td>\n      <td>55122.44312200</td>\n      <td>1617148799999</td>\n      <td>3221944107.45503046</td>\n      <td>1612744</td>\n      <td>27541.52668000</td>\n      <td>1610812657.92990190</td>\n      <td>0</td>\n    </tr>\n    <tr>\n      <th>89</th>\n      <td>2021-03-31</td>\n      <td>58746.57000000</td>\n      <td>59800.00000000</td>\n      <td>56769.00000000</td>\n      <td>58740.55000000</td>\n      <td>60975.54266600</td>\n      <td>1617235199999</td>\n      <td>3575976083.80457570</td>\n      <td>1928224</td>\n      <td>31074.81318700</td>\n      <td>1823822792.91045006</td>\n      <td>0</td>\n    </tr>\n    <tr>\n      <th>90</th>\n      <td>2021-04-01</td>\n      <td>58739.46000000</td>\n      <td>59490.00000000</td>\n      <td>57935.45000000</td>\n      <td>58720.44000000</td>\n      <td>47415.61722000</td>\n      <td>1617321599999</td>\n      <td>2789238879.94337348</td>\n      <td>1594431</td>\n      <td>22966.25673600</td>\n      <td>1351151697.89222195</td>\n      <td>0</td>\n    </tr>\n  </tbody>\n</table>\n<p>91 rows × 12 columns</p>\n</div>"
     },
     "execution_count": 8,
     "metadata": {},
     "output_type": "execute_result"
    }
   ],
   "source": [
    "# get the same ohlc data from binance\n",
    "\n",
    "from binance.client import Client\n",
    "import datetime\n",
    "\n",
    "client = Client()\n",
    "\n",
    "klines = client.get_historical_klines(\"BTCUSDT\", Client.KLINE_INTERVAL_1DAY, \"1 Jan, 2021\", \"1 Apr, 2021\")\n",
    "\n",
    "df = pd.DataFrame(klines, columns=['time', 'open', 'high', 'low', 'close', 'volume', 'close_time', 'quote_av', 'trades', 'tb_base_av', 'tb_quote_av', 'ignore'])\n",
    "df['time'] = pd.to_datetime(df['time'], unit='ms')\n",
    "df\n"
   ],
   "metadata": {
    "collapsed": false,
    "ExecuteTime": {
     "end_time": "2024-01-21T07:47:48.029068400Z",
     "start_time": "2024-01-21T07:47:46.043733700Z"
    }
   },
   "id": "401d859300602a30",
   "execution_count": 8
  },
  {
   "cell_type": "code",
   "outputs": [],
   "source": [],
   "metadata": {
    "collapsed": false
   },
   "id": "bcba6feefc1d3ac"
  },
  {
   "cell_type": "code",
   "outputs": [],
   "source": [],
   "metadata": {
    "collapsed": false
   },
   "id": "61c36e8897a2f924"
  }
 ],
 "metadata": {
  "kernelspec": {
   "display_name": "Python 3",
   "language": "python",
   "name": "python3"
  },
  "language_info": {
   "codemirror_mode": {
    "name": "ipython",
    "version": 2
   },
   "file_extension": ".py",
   "mimetype": "text/x-python",
   "name": "python",
   "nbconvert_exporter": "python",
   "pygments_lexer": "ipython2",
   "version": "2.7.6"
  }
 },
 "nbformat": 4,
 "nbformat_minor": 5
}
